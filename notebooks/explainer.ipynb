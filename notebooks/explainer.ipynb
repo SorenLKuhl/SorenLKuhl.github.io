{
 "cells": [
  {
   "cell_type": "code",
   "execution_count": 1,
   "id": "3e61cf98",
   "metadata": {},
   "outputs": [],
   "source": [
    "import numpy as np\n",
    "import matplotlib.pyplot as plt\n",
    "import seaborn as sns\n",
    "import pandas as pd"
   ]
  },
  {
   "cell_type": "markdown",
   "id": "516cfce1",
   "metadata": {},
   "source": [
    "# Yelp Reviews and Restaurants\n",
    "\n",
    "## **Motivation**\n",
    "We are working with two datasets from Yelp. One containing a subset of businesses in USA and Canada and one containing reviews of these businesses. We chose this dataset as we thought it would be fun and interesting to analyse review trends both time-wise and geographically. Furthermore, the datasets is larget enough and contain enough information to hopefully gain alot of fun insights. As the dataset contains only a subset of the cities on yelp we chose to work specifically on the Philidelphia part of the dataset as this was the largest city present.\n",
    "\n",
    "In the end, we want to inform the reader not only about interesting review trends worth taking into account but also showcase specific areas' ratings to guide them in where to go next for good experience.\n"
   ]
  },
  {
   "cell_type": "markdown",
   "id": "ef389e3e",
   "metadata": {},
   "source": [
    "## **Basic Stats**\n",
    "In this section we cover the two datasets and out choices in data preparation and preprocessing as well as some basic stats of the data."
   ]
  },
  {
   "cell_type": "markdown",
   "id": "f68f4b40",
   "metadata": {},
   "source": [
    "### *Data: Businesses*\n",
    "The full business dataset contains ~150.000 businesses and for each of these it has:\n",
    "- Name\n",
    "- Business ID\n",
    "- Location \n",
    "- Average rating from 1-5\n",
    "- Number of reviews\n",
    "- Categories (Hotel, Restaurant, etc.)\n",
    "- Various attributes (Such as parking or payment options)\n",
    "- Opening hours\n",
    "\n",
    "Firstly we want to filter the business data to contain only those in Philadelphia:"
   ]
  },
  {
   "cell_type": "code",
   "execution_count": 11,
   "id": "dc2dcd72",
   "metadata": {},
   "outputs": [
    {
     "name": "stdout",
     "output_type": "stream",
     "text": [
      "Number of businesses in Philadelphia: 14569\n",
      "Sample data from the business dataset:\n"
     ]
    },
    {
     "data": {
      "text/html": [
       "<div>\n",
       "<style scoped>\n",
       "    .dataframe tbody tr th:only-of-type {\n",
       "        vertical-align: middle;\n",
       "    }\n",
       "\n",
       "    .dataframe tbody tr th {\n",
       "        vertical-align: top;\n",
       "    }\n",
       "\n",
       "    .dataframe thead th {\n",
       "        text-align: right;\n",
       "    }\n",
       "</style>\n",
       "<table border=\"1\" class=\"dataframe\">\n",
       "  <thead>\n",
       "    <tr style=\"text-align: right;\">\n",
       "      <th></th>\n",
       "      <th>business_id</th>\n",
       "      <th>name</th>\n",
       "      <th>address</th>\n",
       "      <th>city</th>\n",
       "      <th>state</th>\n",
       "      <th>postal_code</th>\n",
       "      <th>latitude</th>\n",
       "      <th>longitude</th>\n",
       "      <th>stars</th>\n",
       "      <th>review_count</th>\n",
       "      <th>is_open</th>\n",
       "      <th>attributes</th>\n",
       "      <th>categories</th>\n",
       "      <th>hours</th>\n",
       "    </tr>\n",
       "  </thead>\n",
       "  <tbody>\n",
       "    <tr>\n",
       "      <th>3</th>\n",
       "      <td>MTSW4McQd7CbVtyjqoe9mw</td>\n",
       "      <td>St Honore Pastries</td>\n",
       "      <td>935 Race St</td>\n",
       "      <td>Philadelphia</td>\n",
       "      <td>PA</td>\n",
       "      <td>19107</td>\n",
       "      <td>39.955505</td>\n",
       "      <td>-75.155564</td>\n",
       "      <td>4.0</td>\n",
       "      <td>80</td>\n",
       "      <td>1</td>\n",
       "      <td>{'RestaurantsDelivery': 'False', 'OutdoorSeati...</td>\n",
       "      <td>Restaurants, Food, Bubble Tea, Coffee &amp; Tea, B...</td>\n",
       "      <td>{'Monday': '7:0-20:0', 'Tuesday': '7:0-20:0', ...</td>\n",
       "    </tr>\n",
       "  </tbody>\n",
       "</table>\n",
       "</div>"
      ],
      "text/plain": [
       "              business_id                name      address          city  \\\n",
       "3  MTSW4McQd7CbVtyjqoe9mw  St Honore Pastries  935 Race St  Philadelphia   \n",
       "\n",
       "  state postal_code   latitude  longitude  stars  review_count  is_open  \\\n",
       "3    PA       19107  39.955505 -75.155564    4.0            80        1   \n",
       "\n",
       "                                          attributes  \\\n",
       "3  {'RestaurantsDelivery': 'False', 'OutdoorSeati...   \n",
       "\n",
       "                                          categories  \\\n",
       "3  Restaurants, Food, Bubble Tea, Coffee & Tea, B...   \n",
       "\n",
       "                                               hours  \n",
       "3  {'Monday': '7:0-20:0', 'Tuesday': '7:0-20:0', ...  "
      ]
     },
     "execution_count": 11,
     "metadata": {},
     "output_type": "execute_result"
    }
   ],
   "source": [
    "# Load and filter the business dataset\n",
    "df_business = pd.read_json('../data/yelp_academic_dataset_business.json', lines=True)\n",
    "df_business = df_business[df_business['city'] == 'Philadelphia']\n",
    "print(f\"Number of businesses in Philadelphia: {len(df_business)}\")\n",
    "print(\"Sample data from the business dataset:\")\n",
    "# Display the first row of the filtered dataset\n",
    "df_business.head(1)"
   ]
  },
  {
   "cell_type": "markdown",
   "id": "b031920e",
   "metadata": {},
   "source": [
    "We then want to find those that are labeled as restaurants:"
   ]
  },
  {
   "cell_type": "code",
   "execution_count": 12,
   "id": "54d17de2",
   "metadata": {},
   "outputs": [
    {
     "name": "stdout",
     "output_type": "stream",
     "text": [
      "Number of restaurants in Philadelphia: 5852\n"
     ]
    }
   ],
   "source": [
    "restaurant_ids = set()\n",
    "for _, b in df_business.iterrows():\n",
    "    if b['categories'] and 'Restaurants' in b['categories']:\n",
    "        restaurant_ids.add(b['business_id'])\n",
    "print(f\"Number of restaurants in Philadelphia: {len(restaurant_ids)}\")\n"
   ]
  },
  {
   "cell_type": "markdown",
   "id": "4d691a89",
   "metadata": {},
   "source": [
    "We see that we have data on 5852 restaurants in Philadelphia."
   ]
  },
  {
   "cell_type": "markdown",
   "id": "4edee78f",
   "metadata": {},
   "source": [
    "### *Data: Reviews*\n",
    "The full review dataset contains ~7.000.000 reviews and for each of these it has:\n",
    "- Review ID\n",
    "- User ID\n",
    "- Business ID\n",
    "- Rating\n",
    "- Other users' opinion of the review\n",
    "- Textual review\n",
    "- Date and time of day\n",
    "\n",
    "Firstly, we want to look solely on the reviews for restaurants which we have data on:"
   ]
  },
  {
   "cell_type": "code",
   "execution_count": 13,
   "id": "ae34b58c",
   "metadata": {},
   "outputs": [
    {
     "name": "stdout",
     "output_type": "stream",
     "text": [
      "Number of reviews for restaurants in Philadelphia: 687289\n",
      "Sample data from the reviews dataset:\n"
     ]
    },
    {
     "data": {
      "text/html": [
       "<div>\n",
       "<style scoped>\n",
       "    .dataframe tbody tr th:only-of-type {\n",
       "        vertical-align: middle;\n",
       "    }\n",
       "\n",
       "    .dataframe tbody tr th {\n",
       "        vertical-align: top;\n",
       "    }\n",
       "\n",
       "    .dataframe thead th {\n",
       "        text-align: right;\n",
       "    }\n",
       "</style>\n",
       "<table border=\"1\" class=\"dataframe\">\n",
       "  <thead>\n",
       "    <tr style=\"text-align: right;\">\n",
       "      <th></th>\n",
       "      <th>review_id</th>\n",
       "      <th>user_id</th>\n",
       "      <th>business_id</th>\n",
       "      <th>stars</th>\n",
       "      <th>useful</th>\n",
       "      <th>funny</th>\n",
       "      <th>cool</th>\n",
       "      <th>text</th>\n",
       "      <th>date</th>\n",
       "    </tr>\n",
       "  </thead>\n",
       "  <tbody>\n",
       "    <tr>\n",
       "      <th>0</th>\n",
       "      <td>AqPFMleE6RsU23_auESxiA</td>\n",
       "      <td>_7bHUi9Uuf5__HHc_Q8guQ</td>\n",
       "      <td>kxX2SOes4o-D3ZQBkiMRfA</td>\n",
       "      <td>5</td>\n",
       "      <td>1</td>\n",
       "      <td>0</td>\n",
       "      <td>1</td>\n",
       "      <td>Wow!  Yummy, different,  delicious.   Our favo...</td>\n",
       "      <td>2015-01-04 00:01:03</td>\n",
       "    </tr>\n",
       "  </tbody>\n",
       "</table>\n",
       "</div>"
      ],
      "text/plain": [
       "                review_id                 user_id             business_id  \\\n",
       "0  AqPFMleE6RsU23_auESxiA  _7bHUi9Uuf5__HHc_Q8guQ  kxX2SOes4o-D3ZQBkiMRfA   \n",
       "\n",
       "   stars  useful  funny  cool  \\\n",
       "0      5       1      0     1   \n",
       "\n",
       "                                                text                date  \n",
       "0  Wow!  Yummy, different,  delicious.   Our favo... 2015-01-04 00:01:03  "
      ]
     },
     "execution_count": 13,
     "metadata": {},
     "output_type": "execute_result"
    }
   ],
   "source": [
    "df_reviews = pd.read_json('../data/philadelphia_restaurant_reviews.json', lines=True)\n",
    "# Filter reviews to include only those for restaurants in Philadelphia\n",
    "df_reviews = df_reviews[df_reviews['business_id'].isin(restaurant_ids)]\n",
    "print(f\"Number of reviews for restaurants in Philadelphia: {len(df_reviews)}\")\n",
    "print(\"Sample data from the reviews dataset:\")\n",
    "# Display the first row of the filtered dataset\n",
    "df_reviews.head(1)"
   ]
  },
  {
   "cell_type": "markdown",
   "id": "af1b6127",
   "metadata": {},
   "source": [
    "We see that we have just under 700.000 reviews of restaurants in Philadelphia"
   ]
  },
  {
   "cell_type": "markdown",
   "id": "11e3ab3e",
   "metadata": {},
   "source": [
    "## **Data Analysis**\n"
   ]
  },
  {
   "cell_type": "markdown",
   "id": "635cea87",
   "metadata": {},
   "source": [
    "## **Genre**\n"
   ]
  },
  {
   "cell_type": "markdown",
   "id": "d24ec08b",
   "metadata": {},
   "source": [
    "## **Visualizations**\n"
   ]
  },
  {
   "cell_type": "markdown",
   "id": "073ffff9",
   "metadata": {},
   "source": [
    "## **Discussion**\n"
   ]
  },
  {
   "cell_type": "markdown",
   "id": "35ad0f5a",
   "metadata": {},
   "source": [
    "## **Contributions**\n"
   ]
  }
 ],
 "metadata": {
  "kernelspec": {
   "display_name": ".venv",
   "language": "python",
   "name": "python3"
  },
  "language_info": {
   "codemirror_mode": {
    "name": "ipython",
    "version": 3
   },
   "file_extension": ".py",
   "mimetype": "text/x-python",
   "name": "python",
   "nbconvert_exporter": "python",
   "pygments_lexer": "ipython3",
   "version": "3.10.5"
  }
 },
 "nbformat": 4,
 "nbformat_minor": 5
}
