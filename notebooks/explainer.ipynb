{
 "cells": [
  {
   "cell_type": "code",
   "execution_count": 1,
   "id": "3e61cf98",
   "metadata": {},
   "outputs": [],
   "source": [
    "import numpy as np\n",
    "import matplotlib.pyplot as plt\n",
    "import seaborn as sns\n",
    "import pandas as pd"
   ]
  },
  {
   "cell_type": "markdown",
   "id": "516cfce1",
   "metadata": {},
   "source": [
    "# Yelp Reviews and Restaurants\n",
    "\n",
    "## **Motivation**\n",
    "We are working with two datasets from Yelp. One containing a subset of businesses in USA and Canada and one containing reviews of these businesses. We chose this dataset as we thought it would be fun and interesting to analyse review trends both time-wise and geographically. Furthermore, the datasets is larget enough and contain enough information to hopefully gain alot of fun insights. As the dataset contains only a subset of the cities on yelp we chose to work specifically on the Philidelphia part of the dataset as this was the largest city present.\n",
    "\n",
    "In the end, we want to inform the reader not only about interesting review trends worth taking into account but also showcase specific areas' ratings to guide them in where to go next for good experience.\n"
   ]
  },
  {
   "cell_type": "markdown",
   "id": "ef389e3e",
   "metadata": {},
   "source": [
    "## **Basic Stats**\n",
    "In this section we cover the two datasets and out choices in data preparation and preprocessing as well as some basic stats of the data."
   ]
  },
  {
   "cell_type": "markdown",
   "id": "f68f4b40",
   "metadata": {},
   "source": [
    "### *Data: Businesses*\n",
    "The full business dataset contains ~150.000 businesses and for each of these it has:\n",
    "- Name\n",
    "- Business ID\n",
    "- Location \n",
    "- Average rating from 1-5\n",
    "- Number of reviews\n",
    "- Category (Hotel, Restaurant, etc.)\n",
    "- Various attributes (Such as parking or payment options)\n",
    "- Opening hours\n"
   ]
  },
  {
   "cell_type": "markdown",
   "id": "4edee78f",
   "metadata": {},
   "source": [
    "### *Data: Reviews*\n",
    "The full review dataset contains ~7.000.000 reviews and for each of these it has:\n",
    "- Review ID\n",
    "- User ID\n",
    "- Business ID\n",
    "- Rating\n",
    "- Other users' opinion of the review\n",
    "- Textual review\n",
    "- Date and time of day"
   ]
  },
  {
   "cell_type": "markdown",
   "id": "11e3ab3e",
   "metadata": {},
   "source": [
    "## **Data Analysis**\n"
   ]
  },
  {
   "cell_type": "markdown",
   "id": "635cea87",
   "metadata": {},
   "source": [
    "## **Genre**\n"
   ]
  },
  {
   "cell_type": "markdown",
   "id": "d24ec08b",
   "metadata": {},
   "source": [
    "## **Visualizations**\n"
   ]
  },
  {
   "cell_type": "markdown",
   "id": "073ffff9",
   "metadata": {},
   "source": [
    "## **Discussion**\n"
   ]
  },
  {
   "cell_type": "markdown",
   "id": "35ad0f5a",
   "metadata": {},
   "source": [
    "## **Contributions**\n"
   ]
  }
 ],
 "metadata": {
  "kernelspec": {
   "display_name": ".venv",
   "language": "python",
   "name": "python3"
  },
  "language_info": {
   "codemirror_mode": {
    "name": "ipython",
    "version": 3
   },
   "file_extension": ".py",
   "mimetype": "text/x-python",
   "name": "python",
   "nbconvert_exporter": "python",
   "pygments_lexer": "ipython3",
   "version": "3.10.5"
  }
 },
 "nbformat": 4,
 "nbformat_minor": 5
}
