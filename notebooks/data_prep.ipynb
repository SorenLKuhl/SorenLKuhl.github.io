{
 "cells": [
  {
   "cell_type": "code",
   "execution_count": 1,
   "id": "a6dce484",
   "metadata": {},
   "outputs": [],
   "source": [
    "import pandas as pd\n",
    "import seaborn as sns\n",
    "import matplotlib.pyplot as plt"
   ]
  },
  {
   "cell_type": "code",
   "execution_count": null,
   "id": "2306ae2d",
   "metadata": {},
   "outputs": [],
   "source": [
    "df = pd.read_json('philadelphia_restaurant_reviews.json', lines=True)"
   ]
  },
  {
   "cell_type": "code",
   "execution_count": 3,
   "id": "5fa58c67",
   "metadata": {},
   "outputs": [],
   "source": [
    "df_business = pd.read_json('yelp_academic_dataset_business.json', lines=True)\n",
    " "
   ]
  },
  {
   "cell_type": "code",
   "execution_count": null,
   "id": "2329006b",
   "metadata": {},
   "outputs": [
    {
     "data": {
      "text/plain": [
       "5852"
      ]
     },
     "execution_count": 12,
     "metadata": {},
     "output_type": "execute_result"
    }
   ],
   "source": [
    "# List all businessid for restaurants in philadelphia\n",
    "df_business_philadelphia = df_business[df_business['city'] == 'Philadelphia']\n",
    "\n",
    "unique_businesses = set()\n",
    "for _, b in df_business_philadelphia.iterrows():\n",
    "    if b['categories'] and 'Restaurants' in b['categories']:\n",
    "        unique_businesses.add(b['business_id'])\n"
   ]
  },
  {
   "cell_type": "code",
   "execution_count": 13,
   "id": "574a29d6",
   "metadata": {},
   "outputs": [],
   "source": [
    "# make dataframe of reviews for restaurants in philadelphia\n",
    "df_philadelphia_reviews = df[df['business_id'].isin(unique_businesses)]\n"
   ]
  },
  {
   "cell_type": "code",
   "execution_count": 14,
   "id": "1b0e9145",
   "metadata": {},
   "outputs": [],
   "source": [
    "# save dataframe to csv\n",
    "df_philadelphia_reviews.to_csv('philadelphia_restaurant_reviews.csv', index=False)"
   ]
  },
  {
   "cell_type": "code",
   "execution_count": 15,
   "id": "0151d3e0",
   "metadata": {},
   "outputs": [],
   "source": [
    "# save dataframe to json\n",
    "df_philadelphia_reviews.to_json('philadelphia_restaurant_reviews.json', orient='records', lines=True)"
   ]
  }
 ],
 "metadata": {
  "kernelspec": {
   "display_name": ".venv",
   "language": "python",
   "name": "python3"
  },
  "language_info": {
   "codemirror_mode": {
    "name": "ipython",
    "version": 3
   },
   "file_extension": ".py",
   "mimetype": "text/x-python",
   "name": "python",
   "nbconvert_exporter": "python",
   "pygments_lexer": "ipython3",
   "version": "3.13.1"
  }
 },
 "nbformat": 4,
 "nbformat_minor": 5
}
